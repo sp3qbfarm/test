{
 "cells": [
  {
   "cell_type": "code",
   "execution_count": 33,
   "metadata": {},
   "outputs": [],
   "source": [
    "##Swap Pricer\n",
    "import numpy as np\n",
    "from itertools import product\n",
    "import pandas as pd\n",
    "import datetime\n",
    "from dateutil.relativedelta import relativedelta"
   ]
  },
  {
   "cell_type": "code",
   "execution_count": null,
   "metadata": {},
   "outputs": [],
   "source": [
    "#Terms:\n",
    "#Fixed Leg: semiannual pmts, 30/360 daycount, NYC Holidays\n",
    "#Float Leg: quarterly pmts, ACT/360 daycount, 3ML w 2 day lookback,NYC & Lon Holidays\n",
    "#Discount w the OIS Curve"
   ]
  },
  {
   "cell_type": "code",
   "execution_count": 56,
   "metadata": {},
   "outputs": [],
   "source": [
    "def bdayconvert(start,end,dates):\n",
    "    i = 0\n",
    "    while i in range(len(dates)):\n",
    "        if dates[i] not in pd.bdate_range(start,end):\n",
    "            dates[i] = dates[i]+relativedelta(days=+1)\n",
    "            i = 0\n",
    "        else:\n",
    "            i+=1\n",
    "    return dates"
   ]
  },
  {
   "cell_type": "code",
   "execution_count": 116,
   "metadata": {},
   "outputs": [],
   "source": [
    "def pmtdates(start,end):\n",
    "    sdate = datetime.datetime.strptime(start, '%Y-%m-%d')\n",
    "    edate = datetime.datetime.strptime(end, '%Y-%m-%d')\n",
    "    delta = edate-sdate\n",
    "    fixedpmtdates = [sdate+relativedelta(months=+6)]\n",
    "    nyears = int(delta.days/365)\n",
    "    i = 1\n",
    "    while i < nyears*2:\n",
    "        fixedpmtdates.append(fixedpmtdates[i-1]+relativedelta(months=+6))\n",
    "        i+=1\n",
    "    floatpmtdates = [sdate+relativedelta(months=+3)]\n",
    "    i = 1\n",
    "    while i < nyears*4:\n",
    "        floatpmtdates.append(floatpmtdates[i-1]+relativedelta(months=+3))\n",
    "        i+=1\n",
    "    fixedpmtdates = bdayconvert(start,end,fixedpmtdates) \n",
    "    floatpmtdates = bdayconvert(start,end,floatpmtdates)\n",
    "    return fixedpmtdates, floatpmtdates"
   ]
  },
  {
   "cell_type": "code",
   "execution_count": null,
   "metadata": {},
   "outputs": [],
   "source": [
    "###add in later\n",
    "#def hdayconvert(start,end,dates):\n",
    "#    nycholidays = []\n",
    "#    lonholidays = []\n",
    "#    i = 0\n",
    "#    while i in range(len(dates)):\n",
    "#        if dates[i] not in pd.bdate_range(start,end):\n",
    "#            dates[i] = dates[i]+relativedelta(days=+1)\n",
    "#            i = 0\n",
    "#        else:\n",
    "#            i+=1\n",
    "#    return dates"
   ]
  },
  {
   "cell_type": "code",
   "execution_count": 114,
   "metadata": {},
   "outputs": [],
   "source": [
    "start = \"2020-10-29\"\n",
    "end   = \"2030-10-29\"\n",
    "notional = 100000000 #100 million\n",
    "path1 = 'C:\\\\Users\\\\ECEI\\\\My Documents\\\\testdata.csv'\n",
    "path2 = 'C:\\\\Users\\\\ECEI\\\\My Documents\\\\testois.csv'"
   ]
  },
  {
   "cell_type": "code",
   "execution_count": 123,
   "metadata": {},
   "outputs": [
    {
     "name": "stdout",
     "output_type": "stream",
     "text": [
      "2020-10-29\n",
      "2030-10-29\n",
      "100000000\n",
      "C:\\\\Users\\\\ECEI\\\\My Documents\\\\testdata.csv\n",
      "C:\\\\Users\\\\ECEI\\\\My Documents\\\\testois.csv\n"
     ]
    }
   ],
   "source": [
    "start = input()\n",
    "end = input()\n",
    "notional = input()\n",
    "path1 = input()\n",
    "path2 = input()"
   ]
  },
  {
   "cell_type": "code",
   "execution_count": 124,
   "metadata": {},
   "outputs": [],
   "source": [
    "fixedpmtdates = pmtdates(start,end)[0]\n",
    "floatpmtdates = pmtdates(start,end)[1]"
   ]
  },
  {
   "cell_type": "code",
   "execution_count": null,
   "metadata": {},
   "outputs": [],
   "source": []
  },
  {
   "cell_type": "code",
   "execution_count": 120,
   "metadata": {},
   "outputs": [],
   "source": [
    "ldata = pd.read_csv(path1)\n",
    "odata = pd.read_csv(path2)"
   ]
  },
  {
   "cell_type": "code",
   "execution_count": 107,
   "metadata": {},
   "outputs": [],
   "source": []
  },
  {
   "cell_type": "code",
   "execution_count": 121,
   "metadata": {},
   "outputs": [
    {
     "name": "stderr",
     "output_type": "stream",
     "text": [
      "C:\\Users\\ECEI\\Anaconda3\\lib\\site-packages\\ipykernel_launcher.py:5: SettingWithCopyWarning: \n",
      "A value is trying to be set on a copy of a slice from a DataFrame\n",
      "\n",
      "See the caveats in the documentation: http://pandas.pydata.org/pandas-docs/stable/indexing.html#indexing-view-versus-copy\n",
      "  \"\"\"\n",
      "C:\\Users\\ECEI\\Anaconda3\\lib\\site-packages\\ipykernel_launcher.py:15: SettingWithCopyWarning: \n",
      "A value is trying to be set on a copy of a slice from a DataFrame\n",
      "\n",
      "See the caveats in the documentation: http://pandas.pydata.org/pandas-docs/stable/indexing.html#indexing-view-versus-copy\n",
      "  from ipykernel import kernelapp as app\n",
      "C:\\Users\\ECEI\\Anaconda3\\lib\\site-packages\\ipykernel_launcher.py:20: SettingWithCopyWarning: \n",
      "A value is trying to be set on a copy of a slice from a DataFrame\n",
      "\n",
      "See the caveats in the documentation: http://pandas.pydata.org/pandas-docs/stable/indexing.html#indexing-view-versus-copy\n"
     ]
    }
   ],
   "source": [
    "#getting the days for payment period\n",
    "ldata['Dates'] = (floatpmtdates[0]-sdate).days\n",
    "i = 1\n",
    "while i < len(ldata['Dates']):\n",
    "    ldata['Dates'][i] = (floatpmtdates[i]-floatpmtdates[i-1]).days\n",
    "    i+=1\n",
    "#calculating interest\n",
    "ldata['Pmts'] = (notional*ldata['Forward Rate']/100)*ldata['Dates']/360\n",
    "#calculating the zero\n",
    "odata['Zerodf'] = (1/(1+odata['Forward Rate']/100))\n",
    "#calculating discount factors\n",
    "odata['DF'] = odata['Zerodf']\n",
    "i=1\n",
    "while i < len(odata['DF']):\n",
    "    odata['DF'][i] = odata['Zerodf'][i]*odata['DF'][i-1]\n",
    "    i+=1\n",
    "#pv floatingpmts\n",
    "ldata[\"PVpmts\"]=1\n",
    "for i in range(len(ldata[\"PVpmts\"])):\n",
    "    ldata[\"PVpmts\"][i] = ldata[\"Pmts\"][i]*odata[\"DF\"][i]"
   ]
  },
  {
   "cell_type": "code",
   "execution_count": null,
   "metadata": {},
   "outputs": [],
   "source": []
  },
  {
   "cell_type": "code",
   "execution_count": 122,
   "metadata": {},
   "outputs": [
    {
     "data": {
      "text/plain": [
       "0.005458445446352506"
      ]
     },
     "execution_count": 122,
     "metadata": {},
     "output_type": "execute_result"
    }
   ],
   "source": [
    "#calculating the mid\n",
    "sum(ldata[\"PVpmts\"])/sum(notional*(180/360)*odata['DF'])"
   ]
  },
  {
   "cell_type": "code",
   "execution_count": null,
   "metadata": {},
   "outputs": [],
   "source": []
  }
 ],
 "metadata": {
  "kernelspec": {
   "display_name": "Python 3",
   "language": "python",
   "name": "python3"
  },
  "language_info": {
   "codemirror_mode": {
    "name": "ipython",
    "version": 3
   },
   "file_extension": ".py",
   "mimetype": "text/x-python",
   "name": "python",
   "nbconvert_exporter": "python",
   "pygments_lexer": "ipython3",
   "version": "3.7.3"
  }
 },
 "nbformat": 4,
 "nbformat_minor": 2
}
