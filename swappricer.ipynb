{
 "cells": [
  {
   "cell_type": "code",
   "execution_count": 162,
   "metadata": {},
   "outputs": [],
   "source": [
    "##Swap Pricer\n",
    "import numpy as np\n",
    "from itertools import product\n",
    "import pandas as pd\n",
    "import datetime\n",
    "from dateutil.relativedelta import relativedelta\n",
    "from tkinter import*"
   ]
  },
  {
   "cell_type": "code",
   "execution_count": null,
   "metadata": {},
   "outputs": [],
   "source": [
    "#Terms:\n",
    "#Fixed Leg: semiannual pmts, 30/360 daycount, NYC Holidays\n",
    "#Float Leg: quarterly pmts, ACT/360 daycount, 3ML w 2 day lookback,NYC & Lon Holidays\n",
    "#Discount w the OIS Curve"
   ]
  },
  {
   "cell_type": "code",
   "execution_count": 163,
   "metadata": {},
   "outputs": [],
   "source": [
    "def bdayconvert(start,end,dates):\n",
    "    i = 0\n",
    "    while i in range(len(dates)):\n",
    "        if dates[i] not in pd.bdate_range(start,end):\n",
    "            dates[i] = dates[i]+relativedelta(days=+1)\n",
    "            i = 0\n",
    "        else:\n",
    "            i+=1\n",
    "    return dates"
   ]
  },
  {
   "cell_type": "code",
   "execution_count": 164,
   "metadata": {},
   "outputs": [],
   "source": [
    "def pmtdates(start,end):\n",
    "    sdate = datetime.datetime.strptime(start, '%Y-%m-%d')\n",
    "    edate = datetime.datetime.strptime(end, '%Y-%m-%d')\n",
    "    delta = edate-sdate\n",
    "#    fixedpmtdates = [sdate+relativedelta(months=+6)]\n",
    "    nyears = int(delta.days/365)\n",
    "#    i = 1\n",
    "#    while i < nyears*2:\n",
    "#        fixedpmtdates.append(fixedpmtdates[i-1]+relativedelta(months=+6))\n",
    "#        i+=1\n",
    "    floatpmtdates = [sdate+relativedelta(months=+3)]\n",
    "    i = 1\n",
    "    while i < nyears*4:\n",
    "        floatpmtdates.append(floatpmtdates[i-1]+relativedelta(months=+3))\n",
    "        i+=1\n",
    "#    fixedpmtdates = bdayconvert(start,end,fixedpmtdates) \n",
    "    floatpmtdates = bdayconvert(start,end,floatpmtdates)\n",
    "    return floatpmtdates"
   ]
  },
  {
   "cell_type": "code",
   "execution_count": 212,
   "metadata": {},
   "outputs": [],
   "source": [
    "def price(path1, path2, start,end,notional):\n",
    "    notional = notional\n",
    "    ldata = pd.read_csv(path1)\n",
    "    odata = pd.read_csv(path2)\n",
    "    #fixedpmtdates = pmtdates(start,end)[0]\n",
    "    floatpmtdates = pmtdates(start,end)\n",
    "    #getting the days for payment period\n",
    "    sdate = datetime.datetime.strptime(start, '%Y-%m-%d')\n",
    "    ldata['Dates'] = (floatpmtdates[0]-sdate).days\n",
    "    i = 1\n",
    "    while i < len(ldata['Dates']):\n",
    "        ldata['Dates'][i] = (floatpmtdates[i]-floatpmtdates[i-1]).days\n",
    "        i+=1\n",
    "    #calculating interest\n",
    "    ldata['Pmts'] = (notional*ldata['Forward Rate']/100)*ldata['Dates']/360\n",
    "    #calculating the zero\n",
    "    odata['Zerodf'] = (1/(1+odata['Forward Rate']/100))\n",
    "    #calculating discount factors\n",
    "    odata['DF'] = odata['Zerodf']\n",
    "    i=1\n",
    "    while i < len(odata['DF']):\n",
    "        odata['DF'][i] = odata['Zerodf'][i]*odata['DF'][i-1]\n",
    "        i+=1\n",
    "    #pv floatingpmts\n",
    "    ldata[\"PVpmts\"]=1\n",
    "    for i in range(len(ldata[\"PVpmts\"])):\n",
    "        ldata[\"PVpmts\"][i] = ldata[\"Pmts\"][i]*odata[\"DF\"][i]\n",
    "\n",
    "    #calculating the mid\n",
    "    be = (\"B/E: \"+str(sum(ldata[\"PVpmts\"])/sum(notional*(180/360)*odata['DF'])))\n",
    "    dv = (\"DV01: \"+str(round(sum(notional*(180/360)*odata['DF'])*.0001,5)))\n",
    "    return be, dv"
   ]
  },
  {
   "cell_type": "code",
   "execution_count": 213,
   "metadata": {},
   "outputs": [],
   "source": [
    "def myClick():\n",
    "    loading = Label(root, text= \"Loading...\")\n",
    "    loading.grid(row=5, column =2)\n",
    "    belabel = Label(root, text = price(str(p1.get()),str(p2.get()),str(s.get()),str(e.get()),float(n.get())))\n",
    "    belabel.grid(row= 5, column = 2)"
   ]
  },
  {
   "cell_type": "code",
   "execution_count": 205,
   "metadata": {},
   "outputs": [],
   "source": [
    "start = \"2020-10-29\"\n",
    "end   = \"2030-10-29\"\n",
    "notional = 100000000 #100 million\n",
    "path1 = 'C:\\\\Users\\\\ECEI\\\\My Documents\\\\testdata.csv'\n",
    "path2 = 'C:\\\\Users\\\\ECEI\\\\My Documents\\\\testois.csv'"
   ]
  },
  {
   "cell_type": "code",
   "execution_count": null,
   "metadata": {},
   "outputs": [],
   "source": []
  },
  {
   "cell_type": "code",
   "execution_count": 214,
   "metadata": {},
   "outputs": [],
   "source": [
    "root = Tk()"
   ]
  },
  {
   "cell_type": "code",
   "execution_count": 215,
   "metadata": {},
   "outputs": [],
   "source": [
    "#creating label\n",
    "mylabel = Label(root, text = \"Swap Pricer (dealer conventions)\")\n",
    "mylabel2 = Label(root,text = \"Input terms below\")\n",
    "slabel = Label(root,text=\"Start\")\n",
    "elabel = Label(root,text=\"end\")\n",
    "nlabel = Label(root,text=\"notional\")\n",
    "p1label= Label(root,text=\"P1\")\n",
    "p2label= Label(root,text=\"P2\")\n",
    "s  = Entry(root)\n",
    "e  = Entry(root)\n",
    "n  = Entry(root)\n",
    "p1 = Entry(root)\n",
    "p2 = Entry(root)\n",
    "myButton = Button(root, text=\"Calculate\", command = myClick)\n",
    "mylabel.grid(row=0, column = 1)\n",
    "mylabel2.grid(row = 1, column =1)\n",
    "s.grid(row =2, column = 1)\n",
    "e.grid(row=3, column = 1)\n",
    "n.grid(row=4, column = 1)\n",
    "p1.grid(row=2, column = 3)\n",
    "p2.grid(row=3, column= 3)\n",
    "slabel.grid(row=2,column=0)\n",
    "elabel.grid(row =3, column =0)\n",
    "nlabel.grid(row=4,column=0)\n",
    "p1label.grid(row=2,column=2)\n",
    "p2label.grid(row=3,column=2)\n",
    "myButton.grid(row = 5, column = 1)"
   ]
  },
  {
   "cell_type": "code",
   "execution_count": null,
   "metadata": {},
   "outputs": [],
   "source": []
  },
  {
   "cell_type": "code",
   "execution_count": 216,
   "metadata": {},
   "outputs": [
    {
     "name": "stderr",
     "output_type": "stream",
     "text": [
      "C:\\Users\\ECEI\\Anaconda3\\lib\\site-packages\\ipykernel_launcher.py:12: SettingWithCopyWarning: \n",
      "A value is trying to be set on a copy of a slice from a DataFrame\n",
      "\n",
      "See the caveats in the documentation: http://pandas.pydata.org/pandas-docs/stable/indexing.html#indexing-view-versus-copy\n",
      "  if sys.path[0] == '':\n",
      "C:\\Users\\ECEI\\Anaconda3\\lib\\site-packages\\ipykernel_launcher.py:22: SettingWithCopyWarning: \n",
      "A value is trying to be set on a copy of a slice from a DataFrame\n",
      "\n",
      "See the caveats in the documentation: http://pandas.pydata.org/pandas-docs/stable/indexing.html#indexing-view-versus-copy\n",
      "C:\\Users\\ECEI\\Anaconda3\\lib\\site-packages\\ipykernel_launcher.py:27: SettingWithCopyWarning: \n",
      "A value is trying to be set on a copy of a slice from a DataFrame\n",
      "\n",
      "See the caveats in the documentation: http://pandas.pydata.org/pandas-docs/stable/indexing.html#indexing-view-versus-copy\n"
     ]
    }
   ],
   "source": [
    "#event loop = program is always looping, therefore it knows where ur cursor is, if u click button\n",
    "root.mainloop()"
   ]
  },
  {
   "cell_type": "code",
   "execution_count": null,
   "metadata": {},
   "outputs": [],
   "source": []
  },
  {
   "cell_type": "code",
   "execution_count": null,
   "metadata": {},
   "outputs": [],
   "source": []
  },
  {
   "cell_type": "code",
   "execution_count": null,
   "metadata": {},
   "outputs": [],
   "source": []
  },
  {
   "cell_type": "code",
   "execution_count": 142,
   "metadata": {},
   "outputs": [],
   "source": [
    "class swap:\n",
    "    def __init__(self,start,end,notional):\n",
    "        self.start = start\n",
    "        self.end = end\n",
    "        self.notional = notional\n",
    "    def set_start(self,start):\n",
    "        self.start = start\n",
    "    def set_end(self,end):\n",
    "        self.end = end\n",
    "    def set_not(self,notional):\n",
    "        self.notional = notional"
   ]
  },
  {
   "cell_type": "code",
   "execution_count": 143,
   "metadata": {},
   "outputs": [],
   "source": [
    "s= swap(\"2020-10-29\",\"2030-10-29\",10000000)"
   ]
  },
  {
   "cell_type": "code",
   "execution_count": null,
   "metadata": {},
   "outputs": [],
   "source": []
  }
 ],
 "metadata": {
  "kernelspec": {
   "display_name": "Python 3",
   "language": "python",
   "name": "python3"
  },
  "language_info": {
   "codemirror_mode": {
    "name": "ipython",
    "version": 3
   },
   "file_extension": ".py",
   "mimetype": "text/x-python",
   "name": "python",
   "nbconvert_exporter": "python",
   "pygments_lexer": "ipython3",
   "version": "3.7.3"
  }
 },
 "nbformat": 4,
 "nbformat_minor": 2
}
